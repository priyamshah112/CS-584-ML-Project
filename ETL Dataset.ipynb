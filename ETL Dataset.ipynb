{
 "cells": [
  {
   "cell_type": "markdown",
   "id": "82d0aaaf",
   "metadata": {},
   "source": [
    "### Extract Tranform and Load Dataset \n",
    "#### To create crypto news dataset for our needs from available datasets "
   ]
  },
  {
   "cell_type": "markdown",
   "id": "d85ccce9",
   "metadata": {},
   "source": [
    "#### Available datasets used and their column headers\n",
    "\n",
    "1 Dataset from Kaggle: Bitcoin - News articles text corpora\n",
    "  - URL: https://www.kaggle.com/datasets/balabaskar/bitcoin-news-articles-text-corpora\n",
    "  - Column header in this dataset \n",
    "  - [article id, title, author, published date, link, clean_url, excerpt, summary, rights, article_rank, topic, country, language, authors, media, twitter_account, article_score]\n",
    "\n",
    "\n",
    "2 Dataset from Kaggle: News about major cryptocurrencies 2013-2018 (40k)\n",
    " - URL: https://www.kaggle.com/datasets/kashnitsky/news-about-major-cryptocurrencies-20132018-40k?resource=download\n",
    " - Column header in this dataset\n",
    " - [URL, Title, Text body of a news, HTML body of a news, Year, Author, Source]\n",
    "\n",
    "3 Dataset from figshare: Cryptocurrency News Datasets\n",
    " - URL: https://figshare.com/articles/dataset/Cryptocurrency_News_Datasets/21989735\n",
    " - Column header from this dataset\n",
    " - [date, sentiment, source, subject, text, title, url]\n"
   ]
  },
  {
   "cell_type": "markdown",
   "id": "42196509",
   "metadata": {},
   "source": [
    "#### Final dataset created [ crypto_news_dataset.csv ]\n",
    "\n",
    " - Column headers in this dataset\n",
    " - [published_year, title, text, source, url, sentiment_class, sentiment_polarity, sentiment_subjectivity]"
   ]
  },
  {
   "cell_type": "code",
   "execution_count": 57,
   "id": "96a5dd5f",
   "metadata": {},
   "outputs": [],
   "source": [
    "# Libraries\n",
    "import pandas as pd\n"
   ]
  },
  {
   "cell_type": "code",
   "execution_count": 58,
   "id": "c6b005bd",
   "metadata": {},
   "outputs": [
    {
     "name": "stdout",
     "output_type": "stream",
     "text": [
      "<class 'pandas.core.frame.DataFrame'>\n",
      "RangeIndex: 2500 entries, 0 to 2499\n",
      "Data columns (total 17 columns):\n",
      " #   Column           Non-Null Count  Dtype  \n",
      "---  ------           --------------  -----  \n",
      " 0   article_id       2500 non-null   object \n",
      " 1   title            2500 non-null   object \n",
      " 2   author           2264 non-null   object \n",
      " 3   published_date   2500 non-null   object \n",
      " 4   link             2500 non-null   object \n",
      " 5   clean_url        2500 non-null   object \n",
      " 6   excerpt          2468 non-null   object \n",
      " 7   summary          2473 non-null   object \n",
      " 8   rights           2468 non-null   object \n",
      " 9   article_rank     2500 non-null   int64  \n",
      " 10  topic            2500 non-null   object \n",
      " 11  country          2500 non-null   object \n",
      " 12  language         2500 non-null   object \n",
      " 13  authors          2264 non-null   object \n",
      " 14  media            2461 non-null   object \n",
      " 15  twitter_account  1968 non-null   object \n",
      " 16  article_score    2500 non-null   float64\n",
      "dtypes: float64(1), int64(1), object(15)\n",
      "memory usage: 332.2+ KB\n"
     ]
    }
   ],
   "source": [
    "# Dataset 1\n",
    "df1 = pd.read_csv('../online_available_datasets/bitcoin_articles.csv')\n",
    "df1.info()"
   ]
  },
  {
   "cell_type": "code",
   "execution_count": 59,
   "id": "2132e3d3",
   "metadata": {},
   "outputs": [
    {
     "name": "stdout",
     "output_type": "stream",
     "text": [
      "<class 'pandas.core.frame.DataFrame'>\n",
      "RangeIndex: 28069 entries, 0 to 28068\n",
      "Data columns (total 7 columns):\n",
      " #   Column  Non-Null Count  Dtype \n",
      "---  ------  --------------  ----- \n",
      " 0   url     28069 non-null  object\n",
      " 1   title   28069 non-null  object\n",
      " 2   text    28066 non-null  object\n",
      " 3   html    28069 non-null  object\n",
      " 4   year    28069 non-null  int64 \n",
      " 5   author  28069 non-null  object\n",
      " 6   source  28069 non-null  object\n",
      "dtypes: int64(1), object(6)\n",
      "memory usage: 1.5+ MB\n",
      "<class 'pandas.core.frame.DataFrame'>\n",
      "RangeIndex: 11239 entries, 0 to 11238\n",
      "Data columns (total 7 columns):\n",
      " #   Column  Non-Null Count  Dtype \n",
      "---  ------  --------------  ----- \n",
      " 0   url     11239 non-null  object\n",
      " 1   title   11239 non-null  object\n",
      " 2   text    11239 non-null  object\n",
      " 3   html    11239 non-null  object\n",
      " 4   year    11239 non-null  int64 \n",
      " 5   author  11239 non-null  object\n",
      " 6   source  11239 non-null  object\n",
      "dtypes: int64(1), object(6)\n",
      "memory usage: 614.8+ KB\n"
     ]
    }
   ],
   "source": [
    "# Dataset 2\n",
    "df2 = pd.read_csv('../online_available_datasets/crypto_news_parsed_2013-2017_train.csv')\n",
    "df2.info()\n",
    "\n",
    "df3 = pd.read_csv('../online_available_datasets/crypto_news_parsed_2018_validation.csv')\n",
    "df3.info()"
   ]
  },
  {
   "cell_type": "code",
   "execution_count": 60,
   "id": "13216c6b",
   "metadata": {},
   "outputs": [
    {
     "name": "stdout",
     "output_type": "stream",
     "text": [
      "<class 'pandas.core.frame.DataFrame'>\n",
      "RangeIndex: 12750 entries, 0 to 12749\n",
      "Data columns (total 7 columns):\n",
      " #   Column     Non-Null Count  Dtype \n",
      "---  ------     --------------  ----- \n",
      " 0   date       12750 non-null  object\n",
      " 1   sentiment  12750 non-null  object\n",
      " 2   source     12750 non-null  object\n",
      " 3   subject    12750 non-null  object\n",
      " 4   text       12750 non-null  object\n",
      " 5   title      12750 non-null  object\n",
      " 6   url        12750 non-null  object\n",
      "dtypes: object(7)\n",
      "memory usage: 697.4+ KB\n"
     ]
    }
   ],
   "source": [
    "# Dataset 3\n",
    "df4 = pd.read_csv('../online_available_datasets/cryptonews.csv')\n",
    "df4.info()"
   ]
  },
  {
   "cell_type": "code",
   "execution_count": 61,
   "id": "66a04704",
   "metadata": {},
   "outputs": [],
   "source": [
    "# create final dataset from above dataframe\n",
    "\n",
    "# Rename columns\n",
    "df1 = df1[['published_date', 'title', 'summary', 'author', 'clean_url']].rename(columns={'published_date': 'year', 'title':'title','summary': 'text', 'author': 'source', 'clean_url': 'url'})\n",
    "df2 = df2[['year', 'title', 'text', 'source', 'url']]\n",
    "df3 = df3[['year', 'title', 'text', 'source', 'url']]\n",
    "df4 = df4[['date', 'title', 'text', 'source', 'url']].rename(columns={'date': 'year'})\n",
    "\n",
    "# Merge dataframes\n",
    "df_final = pd.concat([df1, df2, df3, df4], ignore_index=True)\n",
    "\n",
    "# Keep only required columns\n",
    "df_final = df_final[['year', 'title', 'text', 'source', 'url']]\n",
    "\n",
    "df_final.to_csv('crypto_news_dataset.csv')"
   ]
  },
  {
   "cell_type": "code",
   "execution_count": 82,
   "id": "15dfd2da",
   "metadata": {
    "scrolled": true
   },
   "outputs": [
    {
     "name": "stdout",
     "output_type": "stream",
     "text": [
      "<class 'pandas.core.frame.DataFrame'>\n",
      "RangeIndex: 54572 entries, 0 to 54571\n",
      "Data columns (total 5 columns):\n",
      " #   Column  Non-Null Count  Dtype \n",
      "---  ------  --------------  ----- \n",
      " 0   year    54557 non-null  object\n",
      " 1   title   54557 non-null  object\n",
      " 2   text    54527 non-null  object\n",
      " 3   source  54316 non-null  object\n",
      " 4   url     54552 non-null  object\n",
      "dtypes: object(5)\n",
      "memory usage: 2.1+ MB\n"
     ]
    },
    {
     "data": {
      "text/html": [
       "<div>\n",
       "<style scoped>\n",
       "    .dataframe tbody tr th:only-of-type {\n",
       "        vertical-align: middle;\n",
       "    }\n",
       "\n",
       "    .dataframe tbody tr th {\n",
       "        vertical-align: top;\n",
       "    }\n",
       "\n",
       "    .dataframe thead th {\n",
       "        text-align: right;\n",
       "    }\n",
       "</style>\n",
       "<table border=\"1\" class=\"dataframe\">\n",
       "  <thead>\n",
       "    <tr style=\"text-align: right;\">\n",
       "      <th></th>\n",
       "      <th>year</th>\n",
       "      <th>title</th>\n",
       "      <th>text</th>\n",
       "      <th>source</th>\n",
       "      <th>url</th>\n",
       "    </tr>\n",
       "  </thead>\n",
       "  <tbody>\n",
       "    <tr>\n",
       "      <th>0</th>\n",
       "      <td>2022</td>\n",
       "      <td>62% of Bitcoin Has Not Moved in a Year as Long...</td>\n",
       "      <td>Over the course of the last few years, there h...</td>\n",
       "      <td>Jamie McNeill</td>\n",
       "      <td>business2community.com</td>\n",
       "    </tr>\n",
       "    <tr>\n",
       "      <th>1</th>\n",
       "      <td>2022</td>\n",
       "      <td>The Orange Party Issue Playlist</td>\n",
       "      <td>Russia Legalizing Bitcoin And Crypto Is A Matt...</td>\n",
       "      <td>Bitcoin Magazine</td>\n",
       "      <td>bitcoinmagazine.com</td>\n",
       "    </tr>\n",
       "    <tr>\n",
       "      <th>2</th>\n",
       "      <td>2022</td>\n",
       "      <td>How Many Bitcoins Are There?</td>\n",
       "      <td>Bitcoin has a maximum supply of 21 million. Ho...</td>\n",
       "      <td>AOL Staff</td>\n",
       "      <td>gobankingrates.com</td>\n",
       "    </tr>\n",
       "    <tr>\n",
       "      <th>3</th>\n",
       "      <td>2022</td>\n",
       "      <td>Bitcoin 2008–2022: From Bouncing Baby To Troub...</td>\n",
       "      <td>Conceived in 2008 and launched in 2009, bitcoi...</td>\n",
       "      <td>Mark Hooson</td>\n",
       "      <td>forbes.com</td>\n",
       "    </tr>\n",
       "    <tr>\n",
       "      <th>4</th>\n",
       "      <td>2022</td>\n",
       "      <td>Bitcoin Lightning Network capacity strikes 5,0...</td>\n",
       "      <td>Bear markets are for building out capacity on ...</td>\n",
       "      <td>Joseph Hall</td>\n",
       "      <td>cointelegraph.com</td>\n",
       "    </tr>\n",
       "  </tbody>\n",
       "</table>\n",
       "</div>"
      ],
      "text/plain": [
       "   year                                              title  \\\n",
       "0  2022  62% of Bitcoin Has Not Moved in a Year as Long...   \n",
       "1  2022                    The Orange Party Issue Playlist   \n",
       "2  2022                       How Many Bitcoins Are There?   \n",
       "3  2022  Bitcoin 2008–2022: From Bouncing Baby To Troub...   \n",
       "4  2022  Bitcoin Lightning Network capacity strikes 5,0...   \n",
       "\n",
       "                                                text            source  \\\n",
       "0  Over the course of the last few years, there h...     Jamie McNeill   \n",
       "1  Russia Legalizing Bitcoin And Crypto Is A Matt...  Bitcoin Magazine   \n",
       "2  Bitcoin has a maximum supply of 21 million. Ho...         AOL Staff   \n",
       "3  Conceived in 2008 and launched in 2009, bitcoi...       Mark Hooson   \n",
       "4  Bear markets are for building out capacity on ...       Joseph Hall   \n",
       "\n",
       "                      url  \n",
       "0  business2community.com  \n",
       "1     bitcoinmagazine.com  \n",
       "2      gobankingrates.com  \n",
       "3              forbes.com  \n",
       "4       cointelegraph.com  "
      ]
     },
     "execution_count": 82,
     "metadata": {},
     "output_type": "execute_result"
    }
   ],
   "source": [
    "df = pd.read_csv('crypto_news_dataset.csv', on_bad_lines='skip')\n",
    "\n",
    "df.info()\n",
    "\n",
    "df.head()"
   ]
  },
  {
   "cell_type": "code",
   "execution_count": null,
   "id": "a691d580",
   "metadata": {},
   "outputs": [],
   "source": []
  }
 ],
 "metadata": {
  "kernelspec": {
   "display_name": "Python 3 (ipykernel)",
   "language": "python",
   "name": "python3"
  },
  "language_info": {
   "codemirror_mode": {
    "name": "ipython",
    "version": 3
   },
   "file_extension": ".py",
   "mimetype": "text/x-python",
   "name": "python",
   "nbconvert_exporter": "python",
   "pygments_lexer": "ipython3",
   "version": "3.9.7"
  }
 },
 "nbformat": 4,
 "nbformat_minor": 5
}
