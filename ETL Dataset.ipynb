{
 "cells": [
  {
   "cell_type": "markdown",
   "id": "2e9e8afc",
   "metadata": {},
   "source": [
    "### Extract Tranform and Load Dataset \n",
    "#### To create crypto news dataset for our needs from available datasets "
   ]
  },
  {
   "cell_type": "markdown",
   "id": "787d4d8d",
   "metadata": {},
   "source": [
    "#### Available datasets used and their column headers\n",
    "\n",
    "1 Dataset from Kaggle: Bitcoin - News articles text corpora\n",
    "  - URL: https://www.kaggle.com/datasets/balabaskar/bitcoin-news-articles-text-corpora\n",
    "  - Column header in this dataset \n",
    "  - [article id, title, author, published date, link, clean_url, excerpt, summary, rights, article_rank, topic, country, language, authors, media, twitter_account, article_score]\n",
    "\n",
    "\n",
    "2 Dataset from Kaggle: News about major cryptocurrencies 2013-2018 (40k)\n",
    " - URL: https://www.kaggle.com/datasets/kashnitsky/news-about-major-cryptocurrencies-20132018-40k?resource=download\n",
    " - Column header in this dataset\n",
    " - [URL, Title, Text body of a news, HTML body of a news, Year, Author, Source]\n",
    "\n",
    "3 Dataset from figshare: Cryptocurrency News Datasets\n",
    " - URL: https://figshare.com/articles/dataset/Cryptocurrency_News_Datasets/21989735\n",
    " - Column header from this dataset\n",
    " - [date, sentiment, source, subject, text, title, url]\n"
   ]
  },
  {
   "cell_type": "markdown",
   "id": "14dea872",
   "metadata": {},
   "source": [
    "#### Final dataset created [ crypto_news_dataset.csv ]\n",
    "\n",
    " - Column headers in this dataset\n",
    " - [article id, published_year, title, text, source, url, domain, country, language, article_media, social_accounts, sentiment_class, sentiment_polarity, sentiment_subjectivity]"
   ]
  },
  {
   "cell_type": "code",
   "execution_count": 1,
   "id": "784099e0",
   "metadata": {},
   "outputs": [],
   "source": [
    "# Libraries\n",
    "import pandas as pd\n"
   ]
  },
  {
   "cell_type": "code",
   "execution_count": null,
   "id": "f8664481",
   "metadata": {},
   "outputs": [],
   "source": []
  }
 ],
 "metadata": {
  "kernelspec": {
   "display_name": "Python 3 (ipykernel)",
   "language": "python",
   "name": "python3"
  },
  "language_info": {
   "codemirror_mode": {
    "name": "ipython",
    "version": 3
   },
   "file_extension": ".py",
   "mimetype": "text/x-python",
   "name": "python",
   "nbconvert_exporter": "python",
   "pygments_lexer": "ipython3",
   "version": "3.9.7"
  }
 },
 "nbformat": 4,
 "nbformat_minor": 5
}
